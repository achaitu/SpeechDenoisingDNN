{
 "cells": [
  {
   "cell_type": "code",
   "execution_count": null,
   "metadata": {},
   "outputs": [
    {
     "name": "stderr",
     "output_type": "stream",
     "text": [
      "Using TensorFlow backend.\n"
     ]
    },
    {
     "name": "stdout",
     "output_type": "stream",
     "text": [
      "Got the input data\n",
      "(256788, 129, 16, 1)\n",
      "_________________________________________________________________\n",
      "Layer (type)                 Output Shape              Param #   \n",
      "=================================================================\n",
      "conv2d_1 (Conv2D)            (None, 125, 12, 16)       416       \n",
      "_________________________________________________________________\n",
      "conv2d_2 (Conv2D)            (None, 123, 10, 32)       4640      \n",
      "_________________________________________________________________\n",
      "conv2d_3 (Conv2D)            (None, 119, 6, 64)        51264     \n",
      "_________________________________________________________________\n",
      "conv2d_transpose_1 (Conv2DTr (None, 121, 8, 32)        18464     \n",
      "_________________________________________________________________\n",
      "conv2d_transpose_2 (Conv2DTr (None, 125, 12, 16)       12816     \n",
      "_________________________________________________________________\n",
      "conv2d_transpose_3 (Conv2DTr (None, 129, 16, 1)        401       \n",
      "=================================================================\n",
      "Total params: 88,001\n",
      "Trainable params: 88,001\n",
      "Non-trainable params: 0\n",
      "_________________________________________________________________\n",
      "None\n",
      "Train on 1980 samples, validate on 20 samples\n",
      "Epoch 1/10\n"
     ]
    }
   ],
   "source": [
    "import keras\n",
    "from keras.models import Sequential\n",
    "#from keras.layers import Dense, Dropout, Flatten\n",
    "from keras.layers import Conv2D, MaxPooling2D, Conv2DTranspose\n",
    "from keras import backend as K\n",
    "import pickle as pk\n",
    "batch_size = 1024\n",
    "epochs = 10\n",
    "import numpy as  np\n",
    "import os\n",
    "cwd = os.getcwd()\n",
    "#x_train = os.path.join(cwd,'Noisy_TCDTIMIT/Babble/20/volunteers/01M/straightcam')\n",
    "#y_train = os.path.join(cwd,'Clean/volunteers/01M/straightcam')\n",
    "\n",
    "pickle_train = open(\"noiseBabble.pickle\",\"rb\")\n",
    "x_train = pk.load(pickle_train)\n",
    "x_train = x_train[0:256788]\n",
    "pickle_x = open(\"noiseBabble_xtrain.pickle\",\"wb\")\n",
    "pk.dump(x_train,pickle_x)\n",
    "\n",
    "\n",
    "\n",
    "pickle_trainlabel = open(\"cleanBabble.pickle\",\"rb\")\n",
    "y_train = pk.load(pickle_trainlabel)\n",
    "\n",
    "print(\"Got the input data\")\n",
    "x_train = np.asarray(x_train)\n",
    "y_train = np.asarray(y_train)\n",
    "x_train = x_train.reshape(x_train.shape[0], 129, 16, 1)\n",
    "y_train = y_train.reshape(y_train.shape[0], 129, 16, 1)\n",
    "print(np.asarray(x_train).shape)\n",
    "\n",
    "model = Sequential()\n",
    "model.add(Conv2D(16, kernel_size=(5, 5),activation='relu',padding='valid',use_bias=True, kernel_initializer='glorot_uniform',bias_initializer='zeros',input_shape=(129,16,1)))\n",
    "model.add(Conv2D(32, (3, 3), activation='relu',padding='valid',use_bias=True, kernel_initializer='glorot_uniform',bias_initializer='zeros'))\n",
    "model.add(Conv2D(64, (5, 5), activation='relu',padding='valid',use_bias=True, kernel_initializer='glorot_uniform',bias_initializer='zeros'))\n",
    "#model.add(Conv2D(256, (7, 7), activation='relu',padding='valid',use_bias=True, kernel_initializer='glorot_uniform',bias_initializer='zeros'))\n",
    "#model.add(Conv2DTranspose(128, (3, 3), activation='relu',padding='valid',use_bias=True, kernel_initializer='glorot_uniform',bias_initializer='zeros'))\n",
    "model.add(Conv2DTranspose(32, (3, 3), activation='relu',padding='valid',use_bias=True, kernel_initializer='glorot_uniform',bias_initializer='zeros'))\n",
    "model.add(Conv2DTranspose(16, (5, 5), activation='relu',padding='valid',use_bias=True, kernel_initializer='glorot_uniform',bias_initializer='zeros'))\n",
    "model.add(Conv2DTranspose(1, (5, 5), activation='relu',padding='valid',use_bias=True, kernel_initializer='glorot_uniform',bias_initializer='zeros'))\n",
    "print(model.summary())\n",
    "\n",
    "#model.add(MaxPooling2D(pool_size=(2, 2)))\n",
    "#model.add(Dropout(0.25))\n",
    "#model.add(Flatten())\n",
    "#model.add(Dense(128, activation='relu'))\n",
    "#model.add(Dropout(0.5))\n",
    "#model.add(Dense(num_classes, activation='softmax'))\n",
    "\n",
    "model.compile(loss=keras.losses.mean_squared_error,\n",
    "              optimizer=keras.optimizers.Adam(),\n",
    "              metrics=['accuracy'])\n",
    "\n",
    "model.fit(np.asarray(x_train[0:2000]), np.asarray(y_train[0:2000]),\n",
    "          batch_size=batch_size,\n",
    "          epochs=epochs,\n",
    "          validation_split = 0.01\n",
    "         )\n",
    "\n",
    "#score = model.evaluate(x_train, y_train, verbose=0)\n",
    "          \n",
    "#print('Test loss:', score[0])\n",
    "#print('Test accuracy:', score[1])\n"
   ]
  },
  {
   "cell_type": "code",
   "execution_count": 2,
   "metadata": {},
   "outputs": [
    {
     "ename": "NameError",
     "evalue": "name 'y_train' is not defined",
     "output_type": "error",
     "traceback": [
      "\u001b[0;31m---------------------------------------------------------------------------\u001b[0m",
      "\u001b[0;31mNameError\u001b[0m                                 Traceback (most recent call last)",
      "\u001b[0;32m<ipython-input-2-30602697b5a7>\u001b[0m in \u001b[0;36m<module>\u001b[0;34m\u001b[0m\n\u001b[0;32m----> 1\u001b[0;31m \u001b[0my_train\u001b[0m\u001b[0;34m.\u001b[0m\u001b[0mshape\u001b[0m\u001b[0;34m\u001b[0m\u001b[0m\n\u001b[0m",
      "\u001b[0;31mNameError\u001b[0m: name 'y_train' is not defined"
     ]
    }
   ],
   "source": [
    "y_train.shape"
   ]
  },
  {
   "cell_type": "code",
   "execution_count": 3,
   "metadata": {},
   "outputs": [
    {
     "ename": "AttributeError",
     "evalue": "'list' object has no attribute 'shape'",
     "output_type": "error",
     "traceback": [
      "\u001b[0;31m---------------------------------------------------------------------------\u001b[0m",
      "\u001b[0;31mAttributeError\u001b[0m                            Traceback (most recent call last)",
      "\u001b[0;32m<ipython-input-3-2132a220a582>\u001b[0m in \u001b[0;36m<module>\u001b[0;34m\u001b[0m\n\u001b[0;32m----> 1\u001b[0;31m \u001b[0mx_train\u001b[0m\u001b[0;34m.\u001b[0m\u001b[0mshape\u001b[0m\u001b[0;34m\u001b[0m\u001b[0m\n\u001b[0m",
      "\u001b[0;31mAttributeError\u001b[0m: 'list' object has no attribute 'shape'"
     ]
    }
   ],
   "source": [
    "x_train.shape"
   ]
  },
  {
   "cell_type": "code",
   "execution_count": null,
   "metadata": {},
   "outputs": [
    {
     "name": "stdout",
     "output_type": "stream",
     "text": [
      "Got the input data\n",
      "(256788, 129, 16, 1)\n",
      "_________________________________________________________________\n",
      "Layer (type)                 Output Shape              Param #   \n",
      "=================================================================\n",
      "conv2d_1 (Conv2D)            (None, 125, 12, 16)       416       \n",
      "_________________________________________________________________\n",
      "conv2d_2 (Conv2D)            (None, 123, 10, 32)       4640      \n",
      "_________________________________________________________________\n",
      "conv2d_3 (Conv2D)            (None, 119, 6, 64)        51264     \n",
      "_________________________________________________________________\n",
      "conv2d_transpose_1 (Conv2DTr (None, 121, 8, 32)        18464     \n",
      "_________________________________________________________________\n",
      "conv2d_transpose_2 (Conv2DTr (None, 125, 12, 16)       12816     \n",
      "_________________________________________________________________\n",
      "conv2d_transpose_3 (Conv2DTr (None, 129, 16, 1)        401       \n",
      "=================================================================\n",
      "Total params: 88,001\n",
      "Trainable params: 88,001\n",
      "Non-trainable params: 0\n",
      "_________________________________________________________________\n",
      "None\n",
      "Train on 1980 samples, validate on 20 samples\n",
      "Epoch 1/10\n"
     ]
    }
   ],
   "source": []
  },
  {
   "cell_type": "code",
   "execution_count": null,
   "metadata": {},
   "outputs": [],
   "source": []
  }
 ],
 "metadata": {
  "kernelspec": {
   "display_name": "Python 3",
   "language": "python",
   "name": "python3"
  },
  "language_info": {
   "codemirror_mode": {
    "name": "ipython",
    "version": 3
   },
   "file_extension": ".py",
   "mimetype": "text/x-python",
   "name": "python",
   "nbconvert_exporter": "python",
   "pygments_lexer": "ipython3",
   "version": "3.5.2"
  }
 },
 "nbformat": 4,
 "nbformat_minor": 2
}

{
 "cells": [
  {
   "cell_type": "code",
   "execution_count": null,
   "metadata": {},
   "outputs": [
    {
     "name": "stderr",
     "output_type": "stream",
     "text": [
      "Using TensorFlow backend.\n"
     ]
    },
    {
     "name": "stdout",
     "output_type": "stream",
     "text": [
      "Got the input data\n",
      "(29120, 129, 128)\n",
      "H (29113, 8, 129, 128)\n",
      "_________________________________________________________________\n",
      "Layer (type)                 Output Shape              Param #   \n",
      "=================================================================\n",
      "conv2d_1 (Conv2D)            (None, 64, 123, 122)      25152     \n",
      "_________________________________________________________________\n",
      "batch_normalization_1 (Batch (None, 64, 123, 122)      488       \n",
      "_________________________________________________________________\n",
      "activation_1 (Activation)    (None, 64, 123, 122)      0         \n",
      "_________________________________________________________________\n",
      "conv2d_2 (Conv2D)            (None, 128, 119, 118)     204928    \n",
      "_________________________________________________________________\n",
      "batch_normalization_2 (Batch (None, 128, 119, 118)     472       \n",
      "_________________________________________________________________\n",
      "activation_2 (Activation)    (None, 128, 119, 118)     0         \n",
      "_________________________________________________________________\n",
      "conv2d_3 (Conv2D)            (None, 256, 117, 116)     295168    \n",
      "_________________________________________________________________\n",
      "batch_normalization_3 (Batch (None, 256, 117, 116)     464       \n",
      "_________________________________________________________________\n",
      "activation_3 (Activation)    (None, 256, 117, 116)     0         \n",
      "_________________________________________________________________\n",
      "conv2d_4 (Conv2D)            (None, 256, 117, 116)     65792     \n",
      "_________________________________________________________________\n",
      "batch_normalization_4 (Batch (None, 256, 117, 116)     464       \n",
      "_________________________________________________________________\n",
      "activation_4 (Activation)    (None, 256, 117, 116)     0         \n",
      "_________________________________________________________________\n",
      "conv2d_transpose_1 (Conv2DTr (None, 128, 119, 118)     295040    \n",
      "_________________________________________________________________\n",
      "batch_normalization_5 (Batch (None, 128, 119, 118)     472       \n",
      "_________________________________________________________________\n",
      "activation_5 (Activation)    (None, 128, 119, 118)     0         \n",
      "_________________________________________________________________\n",
      "conv2d_transpose_2 (Conv2DTr (None, 64, 123, 122)      204864    \n",
      "_________________________________________________________________\n",
      "batch_normalization_6 (Batch (None, 64, 123, 122)      488       \n",
      "_________________________________________________________________\n",
      "activation_6 (Activation)    (None, 64, 123, 122)      0         \n",
      "_________________________________________________________________\n",
      "conv2d_transpose_3 (Conv2DTr (None, 1, 129, 128)       3137      \n",
      "_________________________________________________________________\n",
      "batch_normalization_7 (Batch (None, 1, 129, 128)       512       \n",
      "_________________________________________________________________\n",
      "activation_7 (Activation)    (None, 1, 129, 128)       0         \n",
      "=================================================================\n",
      "Total params: 1,097,441\n",
      "Trainable params: 1,095,761\n",
      "Non-trainable params: 1,680\n",
      "_________________________________________________________________\n",
      "None\n",
      "Train on 28821 samples, validate on 292 samples\n",
      "Epoch 1/30\n",
      "28821/28821 [==============================] - 361s 13ms/step - loss: 6.0535 - acc: 0.1087 - val_loss: 5.5842 - val_acc: 0.1254\n",
      "Epoch 2/30\n",
      "28821/28821 [==============================] - 341s 12ms/step - loss: 5.9285 - acc: 0.1539 - val_loss: 5.4677 - val_acc: 0.1590\n",
      "Epoch 3/30\n",
      "28821/28821 [==============================] - 340s 12ms/step - loss: 5.8780 - acc: 0.2014 - val_loss: 5.4340 - val_acc: 0.2019\n",
      "Epoch 4/30\n",
      "28821/28821 [==============================] - 341s 12ms/step - loss: 5.8508 - acc: 0.2397 - val_loss: 5.3988 - val_acc: 0.2352\n",
      "Epoch 5/30\n",
      "28128/28821 [============================>.] - ETA: 8s - loss: 5.8264 - acc: 0.2696"
     ]
    },
    {
     "name": "stderr",
     "output_type": "stream",
     "text": [
      "IOPub message rate exceeded.\n",
      "The notebook server will temporarily stop sending output\n",
      "to the client in order to avoid crashing it.\n",
      "To change this limit, set the config variable\n",
      "`--NotebookApp.iopub_msg_rate_limit`.\n",
      "\n",
      "Current values:\n",
      "NotebookApp.iopub_msg_rate_limit=1000.0 (msgs/sec)\n",
      "NotebookApp.rate_limit_window=3.0 (secs)\n",
      "\n"
     ]
    },
    {
     "name": "stdout",
     "output_type": "stream",
     "text": [
      "22080/28821 [=====================>........] - ETA: 1:19 - loss: 5.8137 - acc: 0.3384"
     ]
    }
   ],
   "source": [
    "import pickle as pk\n",
    "import tensorflow as tf\n",
    "import numpy as np\n",
    "import os\n",
    "os.environ[\"CUDA_VISIBLE_DEVICES\"]=\"2,3\"\n",
    "for d in ['/device:GPU:2', '/device:GPU:3']:\n",
    "  with tf.device(d):\n",
    "    import keras\n",
    "    from keras.models import Sequential\n",
    "    #from keras.layers import Dense, Dropout, Flatten\n",
    "    from keras.layers import Conv2D, MaxPooling2D, Conv2DTranspose,Activation\n",
    "    from keras.layers.normalization import BatchNormalization\n",
    "    from keras import backend as K\n",
    "    epochs = 10\n",
    "    batch_size =64\n",
    "    pickle_train = open(\"noiseCafe_20.pickle\",\"rb\")\n",
    "    x_train = pk.load(pickle_train)\n",
    "    pickle_trainlabel = open(\"cleanCafe.pickle\",\"rb\")\n",
    "    y_train = pk.load(pickle_trainlabel)\n",
    "\n",
    "    print(\"Got the input data\")\n",
    "    #x_train = np.asarray(x_train)\n",
    "    y_train = np.asarray(y_train)\n",
    "    print(np.asarray(x_train).shape)\n",
    "    #     print(x_train[0:10].shape)\n",
    "    X_train = []\n",
    "    #X_train = np.asarray(X_train)\n",
    "    for i in range(7,len(x_train)):\n",
    "        X_train.append(x_train[i-7:i+1])\n",
    "    #     temp = x_train[i-7]\n",
    "    #     for j in range(1,8):\n",
    "    #         temp = np.concatenate((temp,x_train[(i-7)+j]),axis=1)\n",
    "    #     X_train.append(temp)\n",
    "\n",
    "    X_train = np.asarray(X_train)\n",
    "    print(\"H\",np.asarray(X_train).shape)\n",
    "    # X_train = X_train.reshape(X_train.shape[0], 129, 128, 1)\n",
    "    # print(\"H2\",np.asarray(X_train).shape)\n",
    "    y_train = y_train.reshape(y_train.shape[0],1,129, 16)\n",
    "\n",
    "\n",
    "    model = Sequential()\n",
    "    model.add(Conv2D(64, kernel_size=(7, 7),padding='valid',use_bias=True, kernel_initializer='glorot_uniform',bias_initializer='zeros',data_format= \"channels_first\",input_shape=(8,129,16)))\n",
    "    model.add(BatchNormalization())\n",
    "    model.add(Activation('relu'))\n",
    "    model.add(Conv2D(128, (5, 5),padding='valid',use_bias=True, kernel_initializer='glorot_uniform',bias_initializer='zeros',data_format= \"channels_first\"))\n",
    "    model.add(BatchNormalization())\n",
    "    model.add(Activation('relu'))\n",
    "    model.add(Conv2D(256, (3, 3),padding='valid',use_bias=True, kernel_initializer='glorot_uniform',bias_initializer='zeros',data_format= \"channels_first\"))\n",
    "    model.add(BatchNormalization())\n",
    "    model.add(Activation('relu'))\n",
    "    model.add(Conv2D(256, (1, 1),padding='valid',use_bias=True, kernel_initializer='glorot_uniform',bias_initializer='zeros',data_format= \"channels_first\"))\n",
    "    #model.add(Conv2DTranspose(128, (3, 3), activation='relu',padding='valid',use_bias=True, kernel_initializer='glorot_uniform',bias_initializer='zeros'))\n",
    "    model.add(BatchNormalization())\n",
    "    model.add(Activation('relu'))\n",
    "    model.add(Conv2DTranspose(128, (3, 3),padding='valid',use_bias=True, kernel_initializer='glorot_uniform',bias_initializer='zeros',data_format= \"channels_first\"))\n",
    "    model.add(BatchNormalization())\n",
    "    model.add(Activation('relu'))\n",
    "    model.add(Conv2DTranspose(64, (5, 5),padding='valid',use_bias=True, kernel_initializer='glorot_uniform',bias_initializer='zeros',data_format= \"channels_first\"))\n",
    "    model.add(BatchNormalization())\n",
    "    model.add(Activation('relu'))\n",
    "    model.add(Conv2DTranspose(1, (7, 7),padding='valid',use_bias=True, kernel_initializer='glorot_uniform',bias_initializer='zeros',data_format= \"channels_first\"))\n",
    "    model.add(BatchNormalization())\n",
    "    model.add(Activation('relu'))\n",
    "\n",
    "    model.compile(loss=keras.losses.mean_squared_error,\n",
    "                  optimizer=keras.optimizers.Adam(lr=0.01, beta_1=0.9, beta_2=0.999),\n",
    "                  metrics=['accuracy'])\n",
    "    #model.build()\n",
    "    #     def ATH():\n",
    "    #         return 3.64*(pow(f/1000,0.8)) - 6.5*(np.exp(0.6*(pow(f/1000-3.3,2)))) + 0.001*(pow(f/1000,4))\n",
    "\n",
    "    #     def myloss(y_true,y_pred,weights):\n",
    "    #         return np.mean((weights(y_true-y_pred))**2)\n",
    "\n",
    "    print(model.summary())\n",
    "    model.fit(np.asarray(X_train), np.asarray(y_train[7:]),\n",
    "              batch_size=batch_size,\n",
    "              epochs=epochs,\n",
    "              validation_split = 0.01\n",
    "             )\n",
    "\n",
    "    model.save_weights('weights_8frames_10.h5')\n",
    "    model.save('model_8frames_10.h5')"
   ]
  },
  {
   "cell_type": "code",
   "execution_count": 1,
   "metadata": {},
   "outputs": [
    {
     "name": "stderr",
     "output_type": "stream",
     "text": [
      "Using TensorFlow backend.\n"
     ]
    }
   ],
   "source": [
    "from keras.models import load_model\n",
    "new_model = load_model('model_8frames_30.h5')"
   ]
  },
  {
   "cell_type": "code",
   "execution_count": 5,
   "metadata": {},
   "outputs": [
    {
     "name": "stdout",
     "output_type": "stream",
     "text": [
      "16000\n",
      "135851\n",
      "(135851,)\n",
      "(135851,)\n",
      "Z (129, 1063)\n",
      "T 8\n",
      "N (8, 129, 128)\n",
      "S (8, 129, 128)\n",
      "(0,)\n",
      "(1, 8, 129, 128)\n",
      "(2, 8, 129, 128)\n",
      "(3, 8, 129, 128)\n",
      "(4, 8, 129, 128)\n",
      "(5, 8, 129, 128)\n",
      "(6, 8, 129, 128)\n",
      "H1 (8, 8, 129, 128)\n",
      "(8, 1, 129, 128)\n",
      "(8, 129, 128)\n"
     ]
    }
   ],
   "source": [
    "from scipy import signal\n",
    "from scipy.io import wavfile\n",
    "import numpy as np\n",
    "sample_rate, samples = wavfile.read('/media/hd2/chaitanya/Deep_Learning/project/TCDTIMIT/Noisy_TCDTIMIT/Cafe/20/lipspeakers/Lipspkr2/straightcam/si1308.wav')\n",
    "print(sample_rate)\n",
    "print(len(samples))\n",
    "print(samples.shape)\n",
    "print((samples).shape)\n",
    "NoiseBabble= []\n",
    "Phase = []\n",
    "f, t, Zxx = signal.stft(samples, sample_rate,nperseg=256,nfft=256)\n",
    "print(\"Z\",Zxx.shape)\n",
    "phase = np.angle(Zxx)\n",
    "T = len(t)//128\n",
    "print(\"T\",T)\n",
    "for i in range(0,(T)*128,128):\n",
    "  NoiseBabble.append(np.log(np.abs(Zxx[:,i:i+128])+1e-8))\n",
    "  Phase.append(phase[:,i:i+128])\n",
    "print(\"N\",np.asarray(NoiseBabble).shape)\n",
    "X_NoiseBabble = []\n",
    "NoiseBabble = np.asarray(NoiseBabble)\n",
    "print(\"S\",NoiseBabble.shape)\n",
    "for i in range(0,7):\n",
    "    print(np.asarray(X_NoiseBabble).shape)\n",
    "    X_NoiseBabble.append(NoiseBabble[0:8])\n",
    "for i in range(7,len(NoiseBabble)):\n",
    "    X_NoiseBabble.append(NoiseBabble[i-7:i+1])\n",
    "print(\"H1\",np.asarray(X_NoiseBabble).shape)\n",
    "b = np.asarray(X_NoiseBabble)\n",
    "rectified = new_model.predict(b)\n",
    "print(rectified.shape)\n",
    "rectified =rectified.reshape(rectified.shape[0], 129, 128)\n",
    "print(rectified.shape)\n",
    "A = np.zeros((129,0))\n",
    "for i in range(T):\n",
    "  S = np.exp(rectified[i])\n",
    "  A = np.append(A,S*np.cos(Phase[i]) + 1j * S*np.sin(Phase[i]),axis=1)\n",
    "t,x = signal.istft(A,nperseg=256,nfft=256)\n",
    "x = np.asarray(x, dtype=np.int16)\n",
    "#print(len(x))\n",
    "#data=np.int16(x/np.max(np.abs(x)) * 32767)\n",
    "wavfile.write('/media/hd2/chaitanya/Deep_Learning/project/TCDTIMIT/code/cafe/testing/frames_si1021.wav', 16000, x)"
   ]
  },
  {
   "cell_type": "code",
   "execution_count": 1,
   "metadata": {},
   "outputs": [],
   "source": [
    "import os\n",
    "os.environ[\"CUDA_VISIBLE_DEVICES\"]=\"0,1\"\n"
   ]
  },
  {
   "cell_type": "code",
   "execution_count": 2,
   "metadata": {},
   "outputs": [
    {
     "data": {
      "text/plain": [
       "['/device:GPU:0', '/device:GPU:1']"
      ]
     },
     "execution_count": 2,
     "metadata": {},
     "output_type": "execute_result"
    }
   ],
   "source": [
    "from tensorflow.python.client import device_lib\n",
    "\n",
    "def get_available_gpus():\n",
    "    local_device_protos = device_lib.list_local_devices()\n",
    "    return [x.name for x in local_device_protos if x.device_type == 'GPU']\n",
    "get_available_gpus()\n",
    "\n",
    "\n",
    "\n",
    "from keras import backend as K\n",
    "config = tf.ConfigProto()\n",
    "config.gpu_options.allow_growth=True\n",
    "sess = tf.Session(config=config)\n",
    "K.set_session(sess)"
   ]
  },
  {
   "cell_type": "code",
   "execution_count": 10,
   "metadata": {},
   "outputs": [
    {
     "data": {
      "image/png": "[encoded data removed]",
      "text/plain": [
       "<Figure size 432x288 with 1 Axes>"
      ]
     },
     "metadata": {
      "needs_background": "light"
     },
     "output_type": "display_data"
    },
    {
     "data": {
      "image/png": "[encoded data removed]",
      "text/plain": [
       "<Figure size 432x288 with 1 Axes>"
      ]
     },
     "metadata": {
      "needs_background": "light"
     },
     "output_type": "display_data"
    }
   ],
   "source": [
    "import matplotlib.pyplot as plt\n",
    "from scipy.fftpack import fft\n",
    "from scipy.io import wavfile\n",
    "\n",
    "fs, data = wavfile.read('/media/hd2/chaitanya/Deep_Learning/project/TCDTIMIT/code/cafe/testing/frames_si1021.wav')\n",
    "fft_out = (fft(data))\n",
    "FFT = np.fft.fftshift(fft_out)\n",
    "plt.plot(np.arange(0,data.shape[0]), np.abs(FFT))\n",
    "plt.show()\n",
    "plt.plot(np.arange(0,data.shape[0]),data)\n",
    "plt.show()\n",
    "\n",
    "# plt.plot(np.arange(0,data.shape[0]),np.fft.ifft(fft_out))\n",
    "# plt.show()"
   ]
  },
  {
   "cell_type": "code",
   "execution_count": 9,
   "metadata": {},
   "outputs": [
    {
     "data": {
      "image/png": "[encoded data removed]",
      "text/plain": [
       "<Figure size 432x288 with 1 Axes>"
      ]
     },
     "metadata": {
      "needs_background": "light"
     },
     "output_type": "display_data"
    },
    {
     "data": {
      "image/png": "[encoded data removed]",
      "text/plain": [
       "<Figure size 432x288 with 1 Axes>"
      ]
     },
     "metadata": {
      "needs_background": "light"
     },
     "output_type": "display_data"
    }
   ],
   "source": [
    "fs, data = wavfile.read('/media/hd2/chaitanya/Deep_Learning/project/TCDTIMIT/Clean/lipspeakers/Lipspkr2/straightcam/si1308.wav')\n",
    "fft_out = np.fft.fftshift(fft(data))\n",
    "plt.plot(np.arange(0,data.shape[0]), np.abs(fft_out))\n",
    "plt.show()\n",
    "plt.plot(np.arange(0,data.shape[0]),data)\n",
    "plt.show()"
   ]
  },
  {
   "cell_type": "code",
   "execution_count": null,
   "metadata": {},
   "outputs": [],
   "source": []
  }
 ],
 "metadata": {
  "kernelspec": {
   "display_name": "Python 3",
   "language": "python",
   "name": "python3"
  }
 },
 "nbformat": 4,
 "nbformat_minor": 2
}

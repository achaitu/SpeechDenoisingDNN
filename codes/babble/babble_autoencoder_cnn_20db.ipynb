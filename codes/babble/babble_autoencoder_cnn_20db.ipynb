{
 "cells": [
  {
   "cell_type": "code",
   "execution_count": 2,
   "metadata": {},
   "outputs": [
    {
     "name": "stderr",
     "output_type": "stream",
     "text": [
      "Using TensorFlow backend.\n"
     ]
    }
   ],
   "source": [
    "import tensorflow as tf\n",
    "config = tf.ConfigProto()\n",
    "config.gpu_options.per_process_gpu_memory_fraction = 0.75\n",
    "session = tf.Session(config=config)\n",
    "with tf.device('/device:GPU:2'):\n",
    "    import keras\n",
    "    from keras.models import Sequential\n",
    "    #from keras.layers import Dense, Dropout, Flatten\n",
    "    from keras.layers import Conv2D, MaxPooling2D, Conv2DTranspose,Activation\n",
    "    from keras.layers.normalization import BatchNormalization\n",
    "    from keras import backend as K\n",
    "    import pickle as pk\n",
    "    batch_size = 1024\n",
    "    #epochs = 50\n",
    "    import numpy as  np\n",
    "    import os\n",
    "    cwd = os.getcwd()\n",
    "    #x_train = os.path.join(cwd,'Noisy_TCDTIMIT/Babble/20/volunteers/01M/straightcam')\n",
    "    #y_train = os.path.join(cwd,'Clean/volunteers/01M/straightcam')\n",
    "\n",
    "#     pickle_train = open(\"noiseBabble_xtrain.pickle\",\"rb\")\n",
    "#     x_train = pk.load(pickle_train)\n",
    "#     pickle_trainlabel = open(\"cleanBabble.pickle\",\"rb\")\n",
    "#     y_train = pk.load(pickle_trainlabel)\n",
    "\n",
    "#     print(\"Got the input data\")\n",
    "#     x_train = np.asarray(x_train[0:100000])\n",
    "#     y_train = np.asarray(y_train[0:100000])\n",
    "#     x_train = x_train.reshape(x_train.shape[0], 129, 16, 1)\n",
    "#     y_train = y_train.reshape(y_train.shape[0], 129, 16, 1)\n",
    "#     print(np.asarray(x_train).shape)\n",
    "\n",
    "    model2 = Sequential()\n",
    "    #model.add(BatchNormalization())\n",
    "    model2.add(Conv2D(64, kernel_size=(7, 7),padding='valid',use_bias=True, kernel_initializer='glorot_uniform',bias_initializer='zeros',input_shape=(129,16,1)))\n",
    "    model2.add(BatchNormalization())\n",
    "    model2.add(Activation('relu'))\n",
    "    model2.add(Conv2D(128, (5, 5),padding='valid',use_bias=True, kernel_initializer='glorot_uniform',bias_initializer='zeros'))\n",
    "    model2.add(BatchNormalization())\n",
    "    model2.add(Activation('relu'))\n",
    "    model2.add(Conv2D(256, (3, 3),padding='valid',use_bias=True, kernel_initializer='glorot_uniform',bias_initializer='zeros'))\n",
    "    model2.add(BatchNormalization())\n",
    "    model2.add(Activation('relu'))\n",
    "    model2.add(Conv2D(256, (1, 1),padding='valid',use_bias=True, kernel_initializer='glorot_uniform',bias_initializer='zeros'))\n",
    "    #model.add(Conv2DTranspose(128, (3, 3), activation='relu',padding='valid',use_bias=True, kernel_initializer='glorot_uniform',bias_initializer='zeros'))\n",
    "    model2.add(BatchNormalization())\n",
    "    model2.add(Activation('relu'))\n",
    "    model2.add(Conv2DTranspose(128, (3, 3),padding='valid',use_bias=True, kernel_initializer='glorot_uniform',bias_initializer='zeros'))\n",
    "    model2.add(BatchNormalization())\n",
    "    model2.add(Activation('relu'))\n",
    "    model2.add(Conv2DTranspose(64, (5, 5),padding='valid',use_bias=True, kernel_initializer='glorot_uniform',bias_initializer='zeros'))\n",
    "    model2.add(BatchNormalization())\n",
    "    model2.add(Activation('relu'))\n",
    "    model2.add(Conv2DTranspose(1, (7, 7),padding='valid',use_bias=True, kernel_initializer='glorot_uniform',bias_initializer='zeros'))\n",
    "    model2.add(BatchNormalization())\n",
    "    model2.add(Activation('relu'))\n",
    "    \n",
    "#     model2.compile(loss=keras.losses.mean_squared_error,\n",
    "#                   optimizer=keras.optimizers.Adam(lr=0.01, beta_1=0.9, beta_2=0.999),\n",
    "#                   metrics=['accuracy'])\n",
    "#     #model.build()\n",
    "\n",
    "#     print(model.summary())\n",
    "#     model.fit(np.asarray(x_train), np.asarray(y_train),\n",
    "#               batch_size=batch_size,\n",
    "#               epochs=epochs,\n",
    "#               validation_split = 0.01\n",
    "#              )\n",
    "\n",
    "#     model.save_weights('weights_2.h5')\n",
    "\n",
    "    #score = model.evaluate(x_train, y_train, verbose=0)\n",
    "\n",
    "    #print('Test loss:', score[0])\n",
    "    #print('Test accuracy:', score[1])\n",
    "    model2.load_weights('weights_2.h5')"
   ]
  },
  {
   "cell_type": "code",
   "execution_count": 1,
   "metadata": {},
   "outputs": [
    {
     "name": "stderr",
     "output_type": "stream",
     "text": [
      "Using TensorFlow backend.\n"
     ]
    }
   ],
   "source": [
    "from keras.models import load_model\n",
    "new_model = load_model('/media/hd2/chaitanya/Deep_Learning/project/TCDTIMIT/code/babble/model_babble_20db.h5')"
   ]
  },
  {
   "cell_type": "code",
   "execution_count": 3,
   "metadata": {
    "scrolled": true
   },
   "outputs": [
    {
     "name": "stdout",
     "output_type": "stream",
     "text": [
      "16000\n",
      "85333\n",
      "(85333,)\n",
      "(85333,)\n",
      "Z (129, 668)\n",
      "T 41\n",
      "N (41, 129, 16)\n",
      "S (42, 129, 16)\n",
      "85888\n"
     ]
    }
   ],
   "source": [
    "import os\n",
    "from scipy import signal\n",
    "from scipy.io import wavfile\n",
    "import numpy as np\n",
    "sample_rate, samples = wavfile.read('/media/hd2/chaitanya/Deep_Learning/project/TCDTIMIT/Noisy_TCDTIMIT/Babble/20/lipspeakers/Lipspkr2/straightcam/si1035.wav')\n",
    "print(sample_rate)\n",
    "print(len(samples))\n",
    "print(samples.shape)\n",
    "#samples = samples.reshape(samples.shape[0])\n",
    "#samples = samples[:,1]\n",
    "print((samples).shape)\n",
    "NoiseBabble= []\n",
    "Phase = []\n",
    "f, t, Zxx = signal.stft(samples, sample_rate,nperseg=256,nfft=256)\n",
    "print(\"Z\",Zxx.shape)\n",
    "phase = np.angle(Zxx)\n",
    "T = len(t)//16\n",
    "print(\"T\",T)\n",
    "for i in range(0,(T)*16,16):\n",
    "  NoiseBabble.append(np.log(np.abs(Zxx[:,i:i+16])+1e-8))\n",
    "  Phase.append(phase[:,i:i+16])\n",
    "print(\"N\",np.asarray(NoiseBabble).shape)\n",
    "if len(t) % 16 !=0:\n",
    "  NoiseBabble.append(np.log(np.abs(Zxx[:,len(t)-16:len(t)])+1e-8))\n",
    "  Phase.append(phase[:,len(t)-16:len(t)])\n",
    "  T = T+1\n",
    "NoiseBabble = np.asarray(NoiseBabble)\n",
    "print(\"S\",NoiseBabble.shape)\n",
    "NoiseBabble = NoiseBabble.reshape(NoiseBabble.shape[0], 129, 16, 1)\n",
    "b = np.asarray(NoiseBabble)\n",
    "rectified = new_model.predict(b)\n",
    "rectified =rectified.reshape(rectified.shape[0], 129, 16)\n",
    "A = np.zeros((129,0))\n",
    "for i in range(T):\n",
    "  S = np.exp(rectified[i])\n",
    "  A = np.append(A,S*np.cos(Phase[i]) + 1j * S*np.sin(Phase[i]),axis=1)\n",
    "t,x = signal.istft(A,nperseg=256,nfft=256)\n",
    "x = np.asarray(x, dtype=np.int16)\n",
    "print(len(x))\n",
    "#data=np.int16(x/np.max(np.abs(x)) * 32767)\n",
    "wavfile.write('/media/hd2/chaitanya/Deep_Learning/project/TCDTIMIT/code/babble/testing/si1035.wav', 16000, x)"
   ]
  },
  {
   "cell_type": "code",
   "execution_count": 5,
   "metadata": {},
   "outputs": [
    {
     "data": {
      "image/png": "[encoded data removed]",
      "text/plain": [
       "<Figure size 432x288 with 1 Axes>"
      ]
     },
     "metadata": {
      "needs_background": "light"
     },
     "output_type": "display_data"
    },
    {
     "data": {
      "image/png": "[encoded data removed]",
      "text/plain": [
       "<Figure size 432x288 with 1 Axes>"
      ]
     },
     "metadata": {
      "needs_background": "light"
     },
     "output_type": "display_data"
    }
   ],
   "source": [
    "import matplotlib.pyplot as plt\n",
    "from scipy.fftpack import fft\n",
    "from scipy.io import wavfile\n",
    "import numpy as np\n",
    "fs, data = wavfile.read('/media/hd2/chaitanya/Deep_Learning/project/TCDTIMIT/code/babble/testing/si1035.wav')\n",
    "fft_out = (fft(data))\n",
    "FFT = np.fft.fftshift(fft_out)\n",
    "plt.plot(np.arange(0,data.shape[0]), np.abs(FFT))\n",
    "plt.show()\n",
    "plt.plot(np.arange(0,data.shape[0]),data)\n",
    "plt.show()"
   ]
  },
  {
   "cell_type": "code",
   "execution_count": 6,
   "metadata": {},
   "outputs": [
    {
     "data": {
      "image/png": "[encoded data removed]",
      "text/plain": [
       "<Figure size 432x288 with 1 Axes>"
      ]
     },
     "metadata": {
      "needs_background": "light"
     },
     "output_type": "display_data"
    },
    {
     "data": {
      "image/png": "[encoded data removed]",
      "text/plain": [
       "<Figure size 432x288 with 1 Axes>"
      ]
     },
     "metadata": {
      "needs_background": "light"
     },
     "output_type": "display_data"
    }
   ],
   "source": [
    "fs, data = wavfile.read('/media/hd2/chaitanya/Deep_Learning/project/TCDTIMIT/Clean/lipspeakers/Lipspkr2/straightcam/si1035.wav')\n",
    "fft_out = np.fft.fftshift(fft(data))\n",
    "plt.plot(np.arange(0,data.shape[0]), np.abs(fft_out))\n",
    "plt.show()\n",
    "plt.plot(np.arange(0,data.shape[0]),data)\n",
    "plt.show()"
   ]
  },
  {
   "cell_type": "code",
   "execution_count": 7,
   "metadata": {},
   "outputs": [
    {
     "data": {
      "image/png": "[encoded data removed]",
      "text/plain": [
       "<Figure size 432x288 with 1 Axes>"
      ]
     },
     "metadata": {
      "needs_background": "light"
     },
     "output_type": "display_data"
    },
    {
     "data": {
      "image/png": "[encoded data removed]",
      "text/plain": [
       "<Figure size 432x288 with 1 Axes>"
      ]
     },
     "metadata": {
      "needs_background": "light"
     },
     "output_type": "display_data"
    }
   ],
   "source": [
    "\n",
    "fs, data = wavfile.read('/media/hd2/chaitanya/Deep_Learning/project/TCDTIMIT/Noisy_TCDTIMIT/Babble/20/lipspeakers/Lipspkr2/straightcam/si1035.wav')\n",
    "fft_out = np.fft.fftshift(fft(data))\n",
    "plt.plot(np.arange(0,data.shape[0]), np.abs(fft_out))\n",
    "plt.show()\n",
    "plt.plot(np.arange(0,data.shape[0]),data)\n",
    "plt.show()"
   ]
  },
  {
   "cell_type": "code",
   "execution_count": null,
   "metadata": {},
   "outputs": [],
   "source": []
  },
  {
   "cell_type": "code",
   "execution_count": null,
   "metadata": {},
   "outputs": [],
   "source": [
    "16000\n",
    "13349376\n",
    "Z (349, 129, 3)\n",
    "T 0\n",
    "N (0,)\n",
    "S (1, 349, 0, 3)"
   ]
  },
  {
   "cell_type": "code",
   "execution_count": 25,
   "metadata": {},
   "outputs": [
    {
     "data": {
      "text/plain": [
       "26698752"
      ]
     },
     "execution_count": 25,
     "metadata": {},
     "output_type": "execute_result"
    }
   ],
   "source": [
    "13349376*2"
   ]
  },
  {
   "cell_type": "code",
   "execution_count": 12,
   "metadata": {},
   "outputs": [
    {
     "data": {
      "text/plain": [
       "94944"
      ]
     },
     "execution_count": 12,
     "metadata": {},
     "output_type": "execute_result"
    }
   ],
   "source": [
    "47*129*16"
   ]
  },
  {
   "cell_type": "code",
   "execution_count": 5,
   "metadata": {},
   "outputs": [
    {
     "data": {
      "text/plain": [
       "2064"
      ]
     },
     "execution_count": 5,
     "metadata": {},
     "output_type": "execute_result"
    }
   ],
   "source": [
    "129*16"
   ]
  },
  {
   "cell_type": "code",
   "execution_count": 6,
   "metadata": {},
   "outputs": [
    {
     "data": {
      "text/plain": [
       "0.129"
      ]
     },
     "execution_count": 6,
     "metadata": {},
     "output_type": "execute_result"
    }
   ],
   "source": [
    "2064/16000"
   ]
  },
  {
   "cell_type": "code",
   "execution_count": 14,
   "metadata": {},
   "outputs": [
    {
     "data": {
      "text/plain": [
       "95460"
      ]
     },
     "execution_count": 14,
     "metadata": {},
     "output_type": "execute_result"
    }
   ],
   "source": [
    "129*740"
   ]
  },
  {
   "cell_type": "code",
   "execution_count": 15,
   "metadata": {},
   "outputs": [
    {
     "data": {
      "text/plain": [
       "369.33203125"
      ]
     },
     "execution_count": 15,
     "metadata": {},
     "output_type": "execute_result"
    }
   ],
   "source": [
    "94549/256"
   ]
  },
  {
   "cell_type": "code",
   "execution_count": 17,
   "metadata": {},
   "outputs": [
    {
     "data": {
      "text/plain": [
       "85"
      ]
     },
     "execution_count": 17,
     "metadata": {},
     "output_type": "execute_result"
    }
   ],
   "source": [
    "94549%128"
   ]
  },
  {
   "cell_type": "code",
   "execution_count": 14,
   "metadata": {},
   "outputs": [],
   "source": [
    "import pywt\n",
    "#pywt.families()"
   ]
  },
  {
   "cell_type": "code",
   "execution_count": 13,
   "metadata": {},
   "outputs": [],
   "source": [
    "#wavelet = pywt.Wavelet('/media/hd2/chaitanya/Deep_Learning/project/anotherdataset/noisy_testset_wav/p232_023.wav','haar')"
   ]
  },
  {
   "cell_type": "code",
   "execution_count": 12,
   "metadata": {},
   "outputs": [],
   "source": [
    "sample_rate, samples = wavfile.read('/media/hd2/chaitanya/Deep_Learning/project/anotherdataset/noisy_testset_wav/p232_023.wav')\n",
    "\n",
    "#a,d = pywt.wavelist(samples,'haar')"
   ]
  },
  {
   "cell_type": "code",
   "execution_count": null,
   "metadata": {},
   "outputs": [],
   "source": []
  }
 ],
 "metadata": {
  "kernelspec": {
   "display_name": "Python 3",
   "language": "python",
   "name": "python3"
  },
  "language_info": {
   "codemirror_mode": {
    "name": "ipython",
    "version": 3
   },
   "file_extension": ".py",
   "mimetype": "text/x-python",
   "name": "python",
   "nbconvert_exporter": "python",
   "pygments_lexer": "ipython3",
   "version": "3.5.2"
  }
 },
 "nbformat": 4,
 "nbformat_minor": 2
}

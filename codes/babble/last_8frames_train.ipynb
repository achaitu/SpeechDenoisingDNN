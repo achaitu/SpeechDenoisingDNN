{
 "cells": [
  {
   "cell_type": "code",
   "execution_count": 1,
   "metadata": {},
   "outputs": [
    {
     "name": "stderr",
     "output_type": "stream",
     "text": [
      "Using TensorFlow backend.\n"
     ]
    },
    {
     "name": "stdout",
     "output_type": "stream",
     "text": [
      "Got the input data\n",
      "(256788, 129, 16)\n",
      "H (256781, 129, 128)\n",
      "H2 (256781, 129, 128, 1)\n",
      "_________________________________________________________________\n",
      "Layer (type)                 Output Shape              Param #   \n",
      "=================================================================\n",
      "conv2d_1 (Conv2D)            (None, 123, 41, 64)       3200      \n",
      "_________________________________________________________________\n",
      "batch_normalization_1 (Batch (None, 123, 41, 64)       256       \n",
      "_________________________________________________________________\n",
      "activation_1 (Activation)    (None, 123, 41, 64)       0         \n",
      "_________________________________________________________________\n",
      "conv2d_2 (Conv2D)            (None, 119, 13, 128)      204928    \n",
      "_________________________________________________________________\n",
      "batch_normalization_2 (Batch (None, 119, 13, 128)      512       \n",
      "_________________________________________________________________\n",
      "activation_2 (Activation)    (None, 119, 13, 128)      0         \n",
      "_________________________________________________________________\n",
      "conv2d_3 (Conv2D)            (None, 117, 11, 256)      295168    \n",
      "_________________________________________________________________\n",
      "batch_normalization_3 (Batch (None, 117, 11, 256)      1024      \n",
      "_________________________________________________________________\n",
      "activation_3 (Activation)    (None, 117, 11, 256)      0         \n",
      "_________________________________________________________________\n",
      "conv2d_4 (Conv2D)            (None, 117, 4, 256)       65792     \n",
      "_________________________________________________________________\n",
      "batch_normalization_4 (Batch (None, 117, 4, 256)       1024      \n",
      "_________________________________________________________________\n",
      "activation_4 (Activation)    (None, 117, 4, 256)       0         \n",
      "_________________________________________________________________\n",
      "conv2d_transpose_1 (Conv2DTr (None, 119, 6, 128)       295040    \n",
      "_________________________________________________________________\n",
      "batch_normalization_5 (Batch (None, 119, 6, 128)       512       \n",
      "_________________________________________________________________\n",
      "activation_5 (Activation)    (None, 119, 6, 128)       0         \n",
      "_________________________________________________________________\n",
      "conv2d_transpose_2 (Conv2DTr (None, 123, 10, 64)       204864    \n",
      "_________________________________________________________________\n",
      "batch_normalization_6 (Batch (None, 123, 10, 64)       256       \n",
      "_________________________________________________________________\n",
      "activation_6 (Activation)    (None, 123, 10, 64)       0         \n",
      "_________________________________________________________________\n",
      "conv2d_transpose_3 (Conv2DTr (None, 129, 16, 1)        3137      \n",
      "_________________________________________________________________\n",
      "batch_normalization_7 (Batch (None, 129, 16, 1)        4         \n",
      "_________________________________________________________________\n",
      "activation_7 (Activation)    (None, 129, 16, 1)        0         \n",
      "=================================================================\n",
      "Total params: 1,075,717\n",
      "Trainable params: 1,073,923\n",
      "Non-trainable params: 1,794\n",
      "_________________________________________________________________\n",
      "None\n",
      "Train on 254213 samples, validate on 2568 samples\n",
      "Epoch 1/10\n",
      "254213/254213 [==============================] - 392s 2ms/step - loss: 6.0616 - acc: 1.1435e-08 - val_loss: 5.6850 - val_acc: 0.0000e+00\n",
      "Epoch 2/10\n",
      "254213/254213 [==============================] - 390s 2ms/step - loss: 6.0118 - acc: 1.3341e-08 - val_loss: 5.6278 - val_acc: 0.0000e+00\n",
      "Epoch 3/10\n",
      "254213/254213 [==============================] - 396s 2ms/step - loss: 5.9956 - acc: 1.5247e-08 - val_loss: 5.6230 - val_acc: 0.0000e+00\n",
      "Epoch 4/10\n",
      "254213/254213 [==============================] - 385s 2ms/step - loss: 5.9863 - acc: 1.5247e-08 - val_loss: 5.6202 - val_acc: 0.0000e+00\n",
      "Epoch 5/10\n",
      "254213/254213 [==============================] - 393s 2ms/step - loss: 5.9800 - acc: 1.9059e-08 - val_loss: 5.6424 - val_acc: 0.0000e+00\n",
      "Epoch 6/10\n",
      "254213/254213 [==============================] - 395s 2ms/step - loss: 5.9751 - acc: 1.7153e-08 - val_loss: 5.6167 - val_acc: 0.0000e+00\n",
      "Epoch 7/10\n",
      "254213/254213 [==============================] - 382s 2ms/step - loss: 5.9710 - acc: 1.5247e-08 - val_loss: 5.6203 - val_acc: 0.0000e+00\n",
      "Epoch 8/10\n",
      "254213/254213 [==============================] - 392s 2ms/step - loss: 5.9681 - acc: 1.3341e-08 - val_loss: 5.6149 - val_acc: 0.0000e+00\n",
      "Epoch 9/10\n",
      "254213/254213 [==============================] - 394s 2ms/step - loss: 5.9651 - acc: 1.7153e-08 - val_loss: 5.6059 - val_acc: 0.0000e+00\n",
      "Epoch 10/10\n",
      "254213/254213 [==============================] - 384s 2ms/step - loss: 5.9624 - acc: 1.5247e-08 - val_loss: 5.6234 - val_acc: 0.0000e+00\n"
     ]
    }
   ],
   "source": [
    "import tensorflow as tf\n",
    "with tf.device('/device:GPU:3'):\n",
    "    import pickle as pk\n",
    "    import numpy as np\n",
    "    import keras\n",
    "    from keras.models import Sequential\n",
    "    #from keras.layers import Dense, Dropout, Flatten\n",
    "    from keras.layers import Conv2D, MaxPooling2D, Conv2DTranspose,Activation\n",
    "    from keras.layers.normalization import BatchNormalization\n",
    "    from keras import backend as K\n",
    "    epochs = 10\n",
    "    batch_size = 32\n",
    "    pickle_train = open(\"noiseBabble_20db.pickle\",\"rb\")\n",
    "    x_train = pk.load(pickle_train)\n",
    "    pickle_trainlabel = open(\"cleanBabble.pickle\",\"rb\")\n",
    "    y_train = pk.load(pickle_trainlabel)\n",
    "\n",
    "    print(\"Got the input data\")\n",
    "    x_train = np.asarray(x_train)\n",
    "    y_train = np.asarray(y_train)\n",
    "    print(np.asarray(x_train).shape)\n",
    "    #     print(x_train[0:10].shape)\n",
    "    X_train = []\n",
    "    #X_train = np.asarray(X_train)\n",
    "    for i in range(7,len(x_train)):\n",
    "        temp = x_train[i-7]\n",
    "        for j in range(1,8):\n",
    "            temp = np.concatenate((temp,x_train[(i-7)+j]),axis=1)\n",
    "        X_train.append(temp)\n",
    "        #X_train.append(x_train[i-8:i,:].reshape(129,128))\n",
    "\n",
    "    X_train = np.asarray(X_train)\n",
    "    print(\"H\",np.asarray(X_train).shape)\n",
    "    X_train = X_train.reshape(X_train.shape[0], 129, 128, 1)\n",
    "    print(\"H2\",np.asarray(X_train).shape)\n",
    "    y_train = y_train.reshape(y_train.shape[0], 129, 16, 1)\n",
    "\n",
    "    model = Sequential()\n",
    "    model.add(Conv2D(64, kernel_size=(7, 7),strides=(1, 3),padding='valid',use_bias=True, kernel_initializer='glorot_uniform',bias_initializer='zeros',input_shape=(129,128,1)))\n",
    "    model.add(BatchNormalization())\n",
    "    model.add(Activation('relu'))\n",
    "    model.add(Conv2D(128, (5, 5),strides=(1, 3),padding='valid',use_bias=True, kernel_initializer='glorot_uniform',bias_initializer='zeros'))\n",
    "    model.add(BatchNormalization())\n",
    "    model.add(Activation('relu'))\n",
    "    model.add(Conv2D(256, (3, 3),padding='valid',use_bias=True, kernel_initializer='glorot_uniform',bias_initializer='zeros'))\n",
    "    model.add(BatchNormalization())\n",
    "    model.add(Activation('relu'))\n",
    "    model.add(Conv2D(256, (1, 1),strides=(1, 3),padding='valid',use_bias=True, kernel_initializer='glorot_uniform',bias_initializer='zeros'))\n",
    "    #model.add(Conv2DTranspose(128, (3, 3), activation='relu',padding='valid',use_bias=True, kernel_initializer='glorot_uniform',bias_initializer='zeros'))\n",
    "    model.add(BatchNormalization())\n",
    "    model.add(Activation('relu'))\n",
    "    model.add(Conv2DTranspose(128, (3, 3),padding='valid',use_bias=True, kernel_initializer='glorot_uniform',bias_initializer='zeros'))\n",
    "    model.add(BatchNormalization())\n",
    "    model.add(Activation('relu'))\n",
    "    model.add(Conv2DTranspose(64, (5, 5),padding='valid',use_bias=True, kernel_initializer='glorot_uniform',bias_initializer='zeros'))\n",
    "    model.add(BatchNormalization())\n",
    "    model.add(Activation('relu'))\n",
    "    model.add(Conv2DTranspose(1, (7, 7),padding='valid',use_bias=True, kernel_initializer='glorot_uniform',bias_initializer='zeros'))\n",
    "    model.add(BatchNormalization())\n",
    "    model.add(Activation('relu'))\n",
    "\n",
    "    model.compile(loss=keras.losses.mean_squared_error,\n",
    "                  optimizer=keras.optimizers.Adam(lr=0.01, beta_1=0.9, beta_2=0.999),\n",
    "                  metrics=['accuracy'])\n",
    "    #model.build()\n",
    "\n",
    "    print(model.summary())\n",
    "    with tf.device('/device:GPU:2') as open:\n",
    "        model.fit(np.asarray(X_train), np.asarray(y_train[7:]),\n",
    "                  batch_size=batch_size,\n",
    "                  epochs=epochs,\n",
    "                  validation_split = 0.01\n",
    "                 )\n",
    "\n",
    "    model.save_weights('weights_8frames_10.h5')\n",
    "    model.save('model_8frames_10.h5')"
   ]
  },
  {
   "cell_type": "code",
   "execution_count": 2,
   "metadata": {},
   "outputs": [],
   "source": [
    "from keras.models import load_model\n",
    "new_model = load_model('model_8frames_10.h5')"
   ]
  },
  {
   "cell_type": "code",
   "execution_count": 5,
   "metadata": {},
   "outputs": [
    {
     "name": "stdout",
     "output_type": "stream",
     "text": [
      "16000\n",
      "82944\n",
      "(82944,)\n",
      "(82944,)\n",
      "Z (129, 649)\n",
      "T 40\n",
      "N (40, 129, 16)\n",
      "S (40, 129, 16)\n",
      "H1 (40, 129, 128)\n"
     ]
    },
    {
     "ename": "ResourceExhaustedError",
     "evalue": "OOM when allocating tensor with shape[32,256,117,11] and type float on /job:localhost/replica:0/task:0/device:GPU:0 by allocator GPU_0_bfc\n\t [[{{node conv2d_3_1/convolution}} = Conv2D[T=DT_FLOAT, data_format=\"NCHW\", dilations=[1, 1, 1, 1], padding=\"VALID\", strides=[1, 1, 1, 1], use_cudnn_on_gpu=true, _device=\"/job:localhost/replica:0/task:0/device:GPU:0\"](activation_2_1/Relu, conv2d_3_1/kernel/read)]]\nHint: If you want to see a list of allocated tensors when OOM happens, add report_tensor_allocations_upon_oom to RunOptions for current allocation info.\n",
     "output_type": "error",
     "traceback": [
      "\u001b[0;31m---------------------------------------------------------------------------\u001b[0m",
      "\u001b[0;31mResourceExhaustedError\u001b[0m                    Traceback (most recent call last)",
      "\u001b[0;32m<ipython-input-5-ed7c9fb0e4ed>\u001b[0m in \u001b[0;36m<module>\u001b[0;34m\u001b[0m\n\u001b[1;32m     43\u001b[0m \u001b[0mb\u001b[0m \u001b[0;34m=\u001b[0m \u001b[0mnp\u001b[0m\u001b[0;34m.\u001b[0m\u001b[0masarray\u001b[0m\u001b[0;34m(\u001b[0m\u001b[0mX_NoiseBabble\u001b[0m\u001b[0;34m)\u001b[0m\u001b[0;34m\u001b[0m\u001b[0m\n\u001b[1;32m     44\u001b[0m \u001b[0mX_NoiseBabble\u001b[0m \u001b[0;34m=\u001b[0m \u001b[0mb\u001b[0m\u001b[0;34m.\u001b[0m\u001b[0mreshape\u001b[0m\u001b[0;34m(\u001b[0m\u001b[0mb\u001b[0m\u001b[0;34m.\u001b[0m\u001b[0mshape\u001b[0m\u001b[0;34m[\u001b[0m\u001b[0;36m0\u001b[0m\u001b[0;34m]\u001b[0m\u001b[0;34m,\u001b[0m \u001b[0;36m129\u001b[0m\u001b[0;34m,\u001b[0m \u001b[0;36m128\u001b[0m\u001b[0;34m,\u001b[0m \u001b[0;36m1\u001b[0m\u001b[0;34m)\u001b[0m\u001b[0;34m\u001b[0m\u001b[0m\n\u001b[0;32m---> 45\u001b[0;31m \u001b[0mrectified\u001b[0m \u001b[0;34m=\u001b[0m \u001b[0mnew_model\u001b[0m\u001b[0;34m.\u001b[0m\u001b[0mpredict\u001b[0m\u001b[0;34m(\u001b[0m\u001b[0mX_NoiseBabble\u001b[0m\u001b[0;34m)\u001b[0m\u001b[0;34m\u001b[0m\u001b[0m\n\u001b[0m\u001b[1;32m     46\u001b[0m \u001b[0mrectified\u001b[0m \u001b[0;34m=\u001b[0m\u001b[0mrectified\u001b[0m\u001b[0;34m.\u001b[0m\u001b[0mreshape\u001b[0m\u001b[0;34m(\u001b[0m\u001b[0mrectified\u001b[0m\u001b[0;34m.\u001b[0m\u001b[0mshape\u001b[0m\u001b[0;34m[\u001b[0m\u001b[0;36m0\u001b[0m\u001b[0;34m]\u001b[0m\u001b[0;34m,\u001b[0m \u001b[0;36m129\u001b[0m\u001b[0;34m,\u001b[0m \u001b[0;36m16\u001b[0m\u001b[0;34m)\u001b[0m\u001b[0;34m\u001b[0m\u001b[0m\n\u001b[1;32m     47\u001b[0m \u001b[0mprint\u001b[0m\u001b[0;34m(\u001b[0m\u001b[0;34m\"R\"\u001b[0m\u001b[0;34m,\u001b[0m\u001b[0mrectified\u001b[0m\u001b[0;34m.\u001b[0m\u001b[0mshape\u001b[0m\u001b[0;34m)\u001b[0m\u001b[0;34m\u001b[0m\u001b[0m\n",
      "\u001b[0;32m/media/hd2/chaitanya/virpyenvs/virpy3/lib/python3.5/site-packages/keras/engine/training.py\u001b[0m in \u001b[0;36mpredict\u001b[0;34m(self, x, batch_size, verbose, steps)\u001b[0m\n\u001b[1;32m   1167\u001b[0m                                             \u001b[0mbatch_size\u001b[0m\u001b[0;34m=\u001b[0m\u001b[0mbatch_size\u001b[0m\u001b[0;34m,\u001b[0m\u001b[0;34m\u001b[0m\u001b[0m\n\u001b[1;32m   1168\u001b[0m                                             \u001b[0mverbose\u001b[0m\u001b[0;34m=\u001b[0m\u001b[0mverbose\u001b[0m\u001b[0;34m,\u001b[0m\u001b[0;34m\u001b[0m\u001b[0m\n\u001b[0;32m-> 1169\u001b[0;31m                                             steps=steps)\n\u001b[0m\u001b[1;32m   1170\u001b[0m \u001b[0;34m\u001b[0m\u001b[0m\n\u001b[1;32m   1171\u001b[0m     def train_on_batch(self, x, y,\n",
      "\u001b[0;32m/media/hd2/chaitanya/virpyenvs/virpy3/lib/python3.5/site-packages/keras/engine/training_arrays.py\u001b[0m in \u001b[0;36mpredict_loop\u001b[0;34m(model, f, ins, batch_size, verbose, steps)\u001b[0m\n\u001b[1;32m    292\u001b[0m                 \u001b[0mins_batch\u001b[0m\u001b[0;34m[\u001b[0m\u001b[0mi\u001b[0m\u001b[0;34m]\u001b[0m \u001b[0;34m=\u001b[0m \u001b[0mins_batch\u001b[0m\u001b[0;34m[\u001b[0m\u001b[0mi\u001b[0m\u001b[0;34m]\u001b[0m\u001b[0;34m.\u001b[0m\u001b[0mtoarray\u001b[0m\u001b[0;34m(\u001b[0m\u001b[0;34m)\u001b[0m\u001b[0;34m\u001b[0m\u001b[0m\n\u001b[1;32m    293\u001b[0m \u001b[0;34m\u001b[0m\u001b[0m\n\u001b[0;32m--> 294\u001b[0;31m             \u001b[0mbatch_outs\u001b[0m \u001b[0;34m=\u001b[0m \u001b[0mf\u001b[0m\u001b[0;34m(\u001b[0m\u001b[0mins_batch\u001b[0m\u001b[0;34m)\u001b[0m\u001b[0;34m\u001b[0m\u001b[0m\n\u001b[0m\u001b[1;32m    295\u001b[0m             \u001b[0mbatch_outs\u001b[0m \u001b[0;34m=\u001b[0m \u001b[0mto_list\u001b[0m\u001b[0;34m(\u001b[0m\u001b[0mbatch_outs\u001b[0m\u001b[0;34m)\u001b[0m\u001b[0;34m\u001b[0m\u001b[0m\n\u001b[1;32m    296\u001b[0m             \u001b[0;32mif\u001b[0m \u001b[0mbatch_index\u001b[0m \u001b[0;34m==\u001b[0m \u001b[0;36m0\u001b[0m\u001b[0;34m:\u001b[0m\u001b[0;34m\u001b[0m\u001b[0m\n",
      "\u001b[0;32m/media/hd2/chaitanya/virpyenvs/virpy3/lib/python3.5/site-packages/keras/backend/tensorflow_backend.py\u001b[0m in \u001b[0;36m__call__\u001b[0;34m(self, inputs)\u001b[0m\n\u001b[1;32m   2713\u001b[0m                 \u001b[0;32mreturn\u001b[0m \u001b[0mself\u001b[0m\u001b[0;34m.\u001b[0m\u001b[0m_legacy_call\u001b[0m\u001b[0;34m(\u001b[0m\u001b[0minputs\u001b[0m\u001b[0;34m)\u001b[0m\u001b[0;34m\u001b[0m\u001b[0m\n\u001b[1;32m   2714\u001b[0m \u001b[0;34m\u001b[0m\u001b[0m\n\u001b[0;32m-> 2715\u001b[0;31m             \u001b[0;32mreturn\u001b[0m \u001b[0mself\u001b[0m\u001b[0;34m.\u001b[0m\u001b[0m_call\u001b[0m\u001b[0;34m(\u001b[0m\u001b[0minputs\u001b[0m\u001b[0;34m)\u001b[0m\u001b[0;34m\u001b[0m\u001b[0m\n\u001b[0m\u001b[1;32m   2716\u001b[0m         \u001b[0;32melse\u001b[0m\u001b[0;34m:\u001b[0m\u001b[0;34m\u001b[0m\u001b[0m\n\u001b[1;32m   2717\u001b[0m             \u001b[0;32mif\u001b[0m \u001b[0mpy_any\u001b[0m\u001b[0;34m(\u001b[0m\u001b[0mis_tensor\u001b[0m\u001b[0;34m(\u001b[0m\u001b[0mx\u001b[0m\u001b[0;34m)\u001b[0m \u001b[0;32mfor\u001b[0m \u001b[0mx\u001b[0m \u001b[0;32min\u001b[0m \u001b[0minputs\u001b[0m\u001b[0;34m)\u001b[0m\u001b[0;34m:\u001b[0m\u001b[0;34m\u001b[0m\u001b[0m\n",
      "\u001b[0;32m/media/hd2/chaitanya/virpyenvs/virpy3/lib/python3.5/site-packages/keras/backend/tensorflow_backend.py\u001b[0m in \u001b[0;36m_call\u001b[0;34m(self, inputs)\u001b[0m\n\u001b[1;32m   2673\u001b[0m             \u001b[0mfetched\u001b[0m \u001b[0;34m=\u001b[0m \u001b[0mself\u001b[0m\u001b[0;34m.\u001b[0m\u001b[0m_callable_fn\u001b[0m\u001b[0;34m(\u001b[0m\u001b[0;34m*\u001b[0m\u001b[0marray_vals\u001b[0m\u001b[0;34m,\u001b[0m \u001b[0mrun_metadata\u001b[0m\u001b[0;34m=\u001b[0m\u001b[0mself\u001b[0m\u001b[0;34m.\u001b[0m\u001b[0mrun_metadata\u001b[0m\u001b[0;34m)\u001b[0m\u001b[0;34m\u001b[0m\u001b[0m\n\u001b[1;32m   2674\u001b[0m         \u001b[0;32melse\u001b[0m\u001b[0;34m:\u001b[0m\u001b[0;34m\u001b[0m\u001b[0m\n\u001b[0;32m-> 2675\u001b[0;31m             \u001b[0mfetched\u001b[0m \u001b[0;34m=\u001b[0m \u001b[0mself\u001b[0m\u001b[0;34m.\u001b[0m\u001b[0m_callable_fn\u001b[0m\u001b[0;34m(\u001b[0m\u001b[0;34m*\u001b[0m\u001b[0marray_vals\u001b[0m\u001b[0;34m)\u001b[0m\u001b[0;34m\u001b[0m\u001b[0m\n\u001b[0m\u001b[1;32m   2676\u001b[0m         \u001b[0;32mreturn\u001b[0m \u001b[0mfetched\u001b[0m\u001b[0;34m[\u001b[0m\u001b[0;34m:\u001b[0m\u001b[0mlen\u001b[0m\u001b[0;34m(\u001b[0m\u001b[0mself\u001b[0m\u001b[0;34m.\u001b[0m\u001b[0moutputs\u001b[0m\u001b[0;34m)\u001b[0m\u001b[0;34m]\u001b[0m\u001b[0;34m\u001b[0m\u001b[0m\n\u001b[1;32m   2677\u001b[0m \u001b[0;34m\u001b[0m\u001b[0m\n",
      "\u001b[0;32m/media/hd2/chaitanya/virpyenvs/virpy3/lib/python3.5/site-packages/tensorflow/python/client/session.py\u001b[0m in \u001b[0;36m__call__\u001b[0;34m(self, *args, **kwargs)\u001b[0m\n\u001b[1;32m   1397\u001b[0m           ret = tf_session.TF_SessionRunCallable(\n\u001b[1;32m   1398\u001b[0m               \u001b[0mself\u001b[0m\u001b[0;34m.\u001b[0m\u001b[0m_session\u001b[0m\u001b[0;34m.\u001b[0m\u001b[0m_session\u001b[0m\u001b[0;34m,\u001b[0m \u001b[0mself\u001b[0m\u001b[0;34m.\u001b[0m\u001b[0m_handle\u001b[0m\u001b[0;34m,\u001b[0m \u001b[0margs\u001b[0m\u001b[0;34m,\u001b[0m \u001b[0mstatus\u001b[0m\u001b[0;34m,\u001b[0m\u001b[0;34m\u001b[0m\u001b[0m\n\u001b[0;32m-> 1399\u001b[0;31m               run_metadata_ptr)\n\u001b[0m\u001b[1;32m   1400\u001b[0m         \u001b[0;32mif\u001b[0m \u001b[0mrun_metadata\u001b[0m\u001b[0;34m:\u001b[0m\u001b[0;34m\u001b[0m\u001b[0m\n\u001b[1;32m   1401\u001b[0m           \u001b[0mproto_data\u001b[0m \u001b[0;34m=\u001b[0m \u001b[0mtf_session\u001b[0m\u001b[0;34m.\u001b[0m\u001b[0mTF_GetBuffer\u001b[0m\u001b[0;34m(\u001b[0m\u001b[0mrun_metadata_ptr\u001b[0m\u001b[0;34m)\u001b[0m\u001b[0;34m\u001b[0m\u001b[0m\n",
      "\u001b[0;32m/media/hd2/chaitanya/virpyenvs/virpy3/lib/python3.5/site-packages/tensorflow/python/framework/errors_impl.py\u001b[0m in \u001b[0;36m__exit__\u001b[0;34m(self, type_arg, value_arg, traceback_arg)\u001b[0m\n\u001b[1;32m    524\u001b[0m             \u001b[0;32mNone\u001b[0m\u001b[0;34m,\u001b[0m \u001b[0;32mNone\u001b[0m\u001b[0;34m,\u001b[0m\u001b[0;34m\u001b[0m\u001b[0m\n\u001b[1;32m    525\u001b[0m             \u001b[0mcompat\u001b[0m\u001b[0;34m.\u001b[0m\u001b[0mas_text\u001b[0m\u001b[0;34m(\u001b[0m\u001b[0mc_api\u001b[0m\u001b[0;34m.\u001b[0m\u001b[0mTF_Message\u001b[0m\u001b[0;34m(\u001b[0m\u001b[0mself\u001b[0m\u001b[0;34m.\u001b[0m\u001b[0mstatus\u001b[0m\u001b[0;34m.\u001b[0m\u001b[0mstatus\u001b[0m\u001b[0;34m)\u001b[0m\u001b[0;34m)\u001b[0m\u001b[0;34m,\u001b[0m\u001b[0;34m\u001b[0m\u001b[0m\n\u001b[0;32m--> 526\u001b[0;31m             c_api.TF_GetCode(self.status.status))\n\u001b[0m\u001b[1;32m    527\u001b[0m     \u001b[0;31m# Delete the underlying status object from memory otherwise it stays alive\u001b[0m\u001b[0;34m\u001b[0m\u001b[0;34m\u001b[0m\u001b[0m\n\u001b[1;32m    528\u001b[0m     \u001b[0;31m# as there is a reference to status from this from the traceback due to\u001b[0m\u001b[0;34m\u001b[0m\u001b[0;34m\u001b[0m\u001b[0m\n",
      "\u001b[0;31mResourceExhaustedError\u001b[0m: OOM when allocating tensor with shape[32,256,117,11] and type float on /job:localhost/replica:0/task:0/device:GPU:0 by allocator GPU_0_bfc\n\t [[{{node conv2d_3_1/convolution}} = Conv2D[T=DT_FLOAT, data_format=\"NCHW\", dilations=[1, 1, 1, 1], padding=\"VALID\", strides=[1, 1, 1, 1], use_cudnn_on_gpu=true, _device=\"/job:localhost/replica:0/task:0/device:GPU:0\"](activation_2_1/Relu, conv2d_3_1/kernel/read)]]\nHint: If you want to see a list of allocated tensors when OOM happens, add report_tensor_allocations_upon_oom to RunOptions for current allocation info.\n"
     ]
    }
   ],
   "source": [
    "from scipy import signal\n",
    "from scipy.io import wavfile\n",
    "import numpy as np\n",
    "sample_rate, samples = wavfile.read('/media/hd2/chaitanya/Deep_Learning/project/TCDTIMIT/Noisy_TCDTIMIT/Babble/20/volunteers/01M/straightcam/sa1.wav')\n",
    "print(sample_rate)\n",
    "print(len(samples))\n",
    "print(samples.shape)\n",
    "#samples = samples.reshape(samples.shape[0])\n",
    "#samples = samples[:,1]\n",
    "print((samples).shape)\n",
    "NoiseBabble= []\n",
    "Phase = []\n",
    "f, t, Zxx = signal.stft(samples, sample_rate,nperseg=256,nfft=256)\n",
    "print(\"Z\",Zxx.shape)\n",
    "phase = np.angle(Zxx)\n",
    "T = len(t)//16\n",
    "print(\"T\",T)\n",
    "for i in range(0,(T)*16,16):\n",
    "  NoiseBabble.append(np.log(np.abs(Zxx[:,i:i+16])+1e-8))\n",
    "  Phase.append(phase[:,i:i+16])\n",
    "print(\"N\",np.asarray(NoiseBabble).shape)\n",
    "# if len(t) % 16 !=0:\n",
    "#   NoiseBabble.append(np.log(np.abs(Zxx[:,len(t)-16:len(t)])+1e-8))\n",
    "#   Phase.append(phase[:,len(t)-16:len(t)])\n",
    "#   T = T+1\n",
    "X_NoiseBabble = []\n",
    "NoiseBabble = np.asarray(NoiseBabble)\n",
    "print(\"S\",NoiseBabble.shape)\n",
    "for i in range(0,7):\n",
    "    temp = NoiseBabble[0]\n",
    "    for j in range(1,8):\n",
    "        temp = np.concatenate((temp,NoiseBabble[j]),axis=1)\n",
    "        #print(\"tempshape\",temp.shape)\n",
    "    X_NoiseBabble.append(temp)\n",
    "    #X_NoiseBabble = np.append(X_NoiseBabble,NoiseBabble[0:8],axis=1)\n",
    "for i in range(7,len(NoiseBabble)):\n",
    "    temp = NoiseBabble[i-7]\n",
    "    for j in range(1,8):\n",
    "        temp = np.concatenate((temp,NoiseBabble[(i-7)+j]),axis=1)\n",
    "    X_NoiseBabble.append(temp)\n",
    "    #X_NoiseBabble.append(NoiseBabble[i-8:i,:,:].reshape(129,128))\n",
    "print(\"H1\",np.asarray(X_NoiseBabble).shape)\n",
    "b = np.asarray(X_NoiseBabble)\n",
    "X_NoiseBabble = b.reshape(b.shape[0], 129, 128, 1)\n",
    "rectified = new_model.predict(X_NoiseBabble)\n",
    "rectified =rectified.reshape(rectified.shape[0], 129, 16)\n",
    "print(\"R\",rectified.shape)\n",
    "A = np.zeros((129,0))\n",
    "for i in range(T):\n",
    "  S = np.exp(rectified[i])\n",
    "  A = np.append(A,S*np.cos(Phase[i]) + 1j * S*np.sin(Phase[i]),axis=1)\n",
    "t,x = signal.istft(A,nperseg=256,nfft=256)\n",
    "x = np.asarray(x, dtype=np.int16)\n",
    "#print(len(x))\n",
    "#data=np.int16(x/np.max(np.abs(x)) * 32767)\n",
    "wavfile.write('/media/hd2/chaitanya/Deep_Learning/project/TCDTIMIT/code/babble/testing/frames_sa1.wav', 16000, x)"
   ]
  },
  {
   "cell_type": "code",
   "execution_count": 1,
   "metadata": {},
   "outputs": [
    {
     "name": "stderr",
     "output_type": "stream",
     "text": [
      "Using TensorFlow backend.\n"
     ]
    },
    {
     "name": "stdout",
     "output_type": "stream",
     "text": [
      "Got the input data\n",
      "(256788, 129, 16)\n",
      "H (256781, 8, 129, 16)\n",
      "_________________________________________________________________\n",
      "Layer (type)                 Output Shape              Param #   \n",
      "=================================================================\n",
      "conv2d_1 (Conv2D)            (None, 64, 123, 10)       25152     \n",
      "_________________________________________________________________\n",
      "batch_normalization_1 (Batch (None, 64, 123, 10)       40        \n",
      "_________________________________________________________________\n",
      "activation_1 (Activation)    (None, 64, 123, 10)       0         \n",
      "_________________________________________________________________\n",
      "conv2d_2 (Conv2D)            (None, 128, 119, 6)       204928    \n",
      "_________________________________________________________________\n",
      "batch_normalization_2 (Batch (None, 128, 119, 6)       24        \n",
      "_________________________________________________________________\n",
      "activation_2 (Activation)    (None, 128, 119, 6)       0         \n",
      "_________________________________________________________________\n",
      "conv2d_3 (Conv2D)            (None, 256, 117, 4)       295168    \n",
      "_________________________________________________________________\n",
      "batch_normalization_3 (Batch (None, 256, 117, 4)       16        \n",
      "_________________________________________________________________\n",
      "activation_3 (Activation)    (None, 256, 117, 4)       0         \n",
      "_________________________________________________________________\n",
      "conv2d_4 (Conv2D)            (None, 256, 117, 4)       65792     \n",
      "_________________________________________________________________\n",
      "batch_normalization_4 (Batch (None, 256, 117, 4)       16        \n",
      "_________________________________________________________________\n",
      "activation_4 (Activation)    (None, 256, 117, 4)       0         \n",
      "_________________________________________________________________\n",
      "conv2d_transpose_1 (Conv2DTr (None, 128, 119, 6)       295040    \n",
      "_________________________________________________________________\n",
      "batch_normalization_5 (Batch (None, 128, 119, 6)       24        \n",
      "_________________________________________________________________\n",
      "activation_5 (Activation)    (None, 128, 119, 6)       0         \n",
      "_________________________________________________________________\n",
      "conv2d_transpose_2 (Conv2DTr (None, 64, 123, 10)       204864    \n",
      "_________________________________________________________________\n",
      "batch_normalization_6 (Batch (None, 64, 123, 10)       40        \n",
      "_________________________________________________________________\n",
      "activation_6 (Activation)    (None, 64, 123, 10)       0         \n",
      "_________________________________________________________________\n",
      "conv2d_transpose_3 (Conv2DTr (None, 1, 129, 16)        3137      \n",
      "_________________________________________________________________\n",
      "batch_normalization_7 (Batch (None, 1, 129, 16)        64        \n",
      "_________________________________________________________________\n",
      "activation_7 (Activation)    (None, 1, 129, 16)        0         \n",
      "=================================================================\n",
      "Total params: 1,094,305\n",
      "Trainable params: 1,094,193\n",
      "Non-trainable params: 112\n",
      "_________________________________________________________________\n",
      "None\n",
      "Train on 254213 samples, validate on 2568 samples\n",
      "Epoch 1/10\n",
      "254213/254213 [==============================] - 236s 928us/step - loss: 5.6853 - acc: 0.1550 - val_loss: 5.2644 - val_acc: 0.1674\n",
      "Epoch 2/10\n",
      "106240/254213 [===========>..................] - ETA: 2:12 - loss: 5.6258 - acc: 0.1878"
     ]
    },
    {
     "name": "stderr",
     "output_type": "stream",
     "text": [
      "IOPub message rate exceeded.\n",
      "The notebook server will temporarily stop sending output\n",
      "to the client in order to avoid crashing it.\n",
      "To change this limit, set the config variable\n",
      "`--NotebookApp.iopub_msg_rate_limit`.\n",
      "\n",
      "Current values:\n",
      "NotebookApp.iopub_msg_rate_limit=1000.0 (msgs/sec)\n",
      "NotebookApp.rate_limit_window=3.0 (secs)\n",
      "\n"
     ]
    },
    {
     "name": "stdout",
     "output_type": "stream",
     "text": [
      "254213/254213 [==============================] - 233s 918us/step - loss: 5.5817 - acc: 0.2159 - val_loss: 5.1614 - val_acc: 0.2251\n",
      "Epoch 4/10\n",
      " 48768/254213 [====>.........................] - ETA: 3:02 - loss: 5.5111 - acc: 0.2317"
     ]
    },
    {
     "name": "stderr",
     "output_type": "stream",
     "text": [
      "IOPub message rate exceeded.\n",
      "The notebook server will temporarily stop sending output\n",
      "to the client in order to avoid crashing it.\n",
      "To change this limit, set the config variable\n",
      "`--NotebookApp.iopub_msg_rate_limit`.\n",
      "\n",
      "Current values:\n",
      "NotebookApp.iopub_msg_rate_limit=1000.0 (msgs/sec)\n",
      "NotebookApp.rate_limit_window=3.0 (secs)\n",
      "\n"
     ]
    },
    {
     "name": "stdout",
     "output_type": "stream",
     "text": [
      "244096/254213 [===========================>..] - ETA: 9s - loss: 5.5479 - acc: 0.2640"
     ]
    },
    {
     "name": "stderr",
     "output_type": "stream",
     "text": [
      "IOPub message rate exceeded.\n",
      "The notebook server will temporarily stop sending output\n",
      "to the client in order to avoid crashing it.\n",
      "To change this limit, set the config variable\n",
      "`--NotebookApp.iopub_msg_rate_limit`.\n",
      "\n",
      "Current values:\n",
      "NotebookApp.iopub_msg_rate_limit=1000.0 (msgs/sec)\n",
      "NotebookApp.rate_limit_window=3.0 (secs)\n",
      "\n"
     ]
    },
    {
     "name": "stdout",
     "output_type": "stream",
     "text": [
      "254213/254213 [==============================] - 234s 919us/step - loss: 5.5340 - acc: 0.2926 - val_loss: 5.1837 - val_acc: 0.2632\n",
      "Epoch 8/10\n",
      "254213/254213 [==============================] - 229s 901us/step - loss: 5.5285 - acc: 0.3020 - val_loss: 5.1281 - val_acc: 0.2868\n",
      "Epoch 9/10\n",
      "254213/254213 [==============================] - 233s 915us/step - loss: 5.5255 - acc: 0.3074 - val_loss: 5.1404 - val_acc: 0.2873\n",
      "Epoch 10/10\n",
      "254213/254213 [==============================] - 229s 900us/step - loss: 5.5225 - acc: 0.3114 - val_loss: 5.1340 - val_acc: 0.3012\n"
     ]
    }
   ],
   "source": [
    "import pickle as pk\n",
    "import tensorflow as tf\n",
    "import numpy as np\n",
    "with tf.device('/device:GPU:2'):\n",
    "    import keras\n",
    "    from keras.models import Sequential\n",
    "    #from keras.layers import Dense, Dropout, Flatten\n",
    "    from keras.layers import Conv2D, MaxPooling2D, Conv2DTranspose,Activation\n",
    "    from keras.layers.normalization import BatchNormalization\n",
    "    from keras import backend as K\n",
    "    epochs = 10\n",
    "    batch_size = 64\n",
    "    pickle_train = open(\"noiseBabble_20db.pickle\",\"rb\")\n",
    "    x_train = pk.load(pickle_train)\n",
    "    pickle_trainlabel = open(\"cleanBabble.pickle\",\"rb\")\n",
    "    y_train = pk.load(pickle_trainlabel)\n",
    "\n",
    "    print(\"Got the input data\")\n",
    "    #x_train = np.asarray(x_train)\n",
    "    y_train = np.asarray(y_train)\n",
    "    print(np.asarray(x_train).shape)\n",
    "    #     print(x_train[0:10].shape)\n",
    "    X_train = []\n",
    "    #X_train = np.asarray(X_train)\n",
    "    for i in range(7,len(x_train)):\n",
    "        X_train.append(x_train[i-7:i+1])\n",
    "    #     temp = x_train[i-7]\n",
    "    #     for j in range(1,8):\n",
    "    #         temp = np.concatenate((temp,x_train[(i-7)+j]),axis=1)\n",
    "    #     X_train.append(temp)\n",
    "\n",
    "    X_train = np.asarray(X_train)\n",
    "    print(\"H\",np.asarray(X_train).shape)\n",
    "    # X_train = X_train.reshape(X_train.shape[0], 129, 128, 1)\n",
    "    # print(\"H2\",np.asarray(X_train).shape)\n",
    "    y_train = y_train.reshape(y_train.shape[0],1,129, 16)\n",
    "    \n",
    "    \n",
    "    model = Sequential()\n",
    "    model.add(Conv2D(64, kernel_size=(7, 7),padding='valid',use_bias=True, kernel_initializer='glorot_uniform',bias_initializer='zeros',data_format= \"channels_first\",input_shape=(8,129,16)))\n",
    "    model.add(BatchNormalization())\n",
    "    model.add(Activation('relu'))\n",
    "    model.add(Conv2D(128, (5, 5),padding='valid',use_bias=True, kernel_initializer='glorot_uniform',bias_initializer='zeros',data_format= \"channels_first\"))\n",
    "    model.add(BatchNormalization())\n",
    "    model.add(Activation('relu'))\n",
    "    model.add(Conv2D(256, (3, 3),padding='valid',use_bias=True, kernel_initializer='glorot_uniform',bias_initializer='zeros',data_format= \"channels_first\"))\n",
    "    model.add(BatchNormalization())\n",
    "    model.add(Activation('relu'))\n",
    "    model.add(Conv2D(256, (1, 1),padding='valid',use_bias=True, kernel_initializer='glorot_uniform',bias_initializer='zeros',data_format= \"channels_first\"))\n",
    "    #model.add(Conv2DTranspose(128, (3, 3), activation='relu',padding='valid',use_bias=True, kernel_initializer='glorot_uniform',bias_initializer='zeros'))\n",
    "    model.add(BatchNormalization())\n",
    "    model.add(Activation('relu'))\n",
    "    model.add(Conv2DTranspose(128, (3, 3),padding='valid',use_bias=True, kernel_initializer='glorot_uniform',bias_initializer='zeros',data_format= \"channels_first\"))\n",
    "    model.add(BatchNormalization())\n",
    "    model.add(Activation('relu'))\n",
    "    model.add(Conv2DTranspose(64, (5, 5),padding='valid',use_bias=True, kernel_initializer='glorot_uniform',bias_initializer='zeros',data_format= \"channels_first\"))\n",
    "    model.add(BatchNormalization())\n",
    "    model.add(Activation('relu'))\n",
    "    model.add(Conv2DTranspose(1, (7, 7),padding='valid',use_bias=True, kernel_initializer='glorot_uniform',bias_initializer='zeros',data_format= \"channels_first\"))\n",
    "    model.add(BatchNormalization())\n",
    "    model.add(Activation('relu'))\n",
    "\n",
    "    model.compile(loss=keras.losses.mean_squared_error,\n",
    "                  optimizer=keras.optimizers.Adam(lr=0.01, beta_1=0.9, beta_2=0.999),\n",
    "                  metrics=['accuracy'])\n",
    "    #model.build()\n",
    "#     def ATH():\n",
    "#         return 3.64*(pow(f/1000,0.8)) - 6.5*(np.exp(0.6*(pow(f/1000-3.3,2)))) + 0.001*(pow(f/1000,4))\n",
    "\n",
    "#     def myloss(y_true,y_pred,weights):\n",
    "#         return np.mean((weights(y_true-y_pred))**2)\n",
    "\n",
    "    print(model.summary())\n",
    "    with tf.device('/device:GPU:2') as open:\n",
    "        model.fit(np.asarray(X_train), np.asarray(y_train[7:]),\n",
    "                  batch_size=batch_size,\n",
    "                  epochs=epochs,\n",
    "                  validation_split = 0.01\n",
    "                 )\n",
    "\n",
    "    model.save_weights('weights_8frames_10_final.h5')\n",
    "    model.save('model_8frames_10_final.h5')"
   ]
  },
  {
   "cell_type": "code",
   "execution_count": 1,
   "metadata": {},
   "outputs": [
    {
     "name": "stderr",
     "output_type": "stream",
     "text": [
      "Using TensorFlow backend.\n"
     ]
    }
   ],
   "source": [
    "from keras.models import load_model\n",
    "new_model = load_model('model_8frames_10_final.h5')"
   ]
  },
  {
   "cell_type": "code",
   "execution_count": 10,
   "metadata": {},
   "outputs": [
    {
     "name": "stdout",
     "output_type": "stream",
     "text": [
      "16000\n",
      "126293\n",
      "(126293,)\n",
      "(126293,)\n",
      "Z (129, 988)\n",
      "T 61\n",
      "N (61, 129, 16)\n",
      "S (61, 129, 16)\n",
      "H1 (61, 8, 129, 16)\n",
      "(61, 1, 129, 16)\n",
      "(61, 129, 16)\n"
     ]
    }
   ],
   "source": [
    "from scipy import signal\n",
    "from scipy.io import wavfile\n",
    "import numpy as np\n",
    "sample_rate, samples = wavfile.read('/media/hd2/chaitanya/Deep_Learning/project/TCDTIMIT/Noisy_TCDTIMIT/Babble/20/.wav')\n",
    "print(sample_rate)\n",
    "print(len(samples))\n",
    "print(samples.shape)\n",
    "#samples = samples.reshape(samples.shape[0])\n",
    "#samples = samples[:,1]\n",
    "print((samples).shape)\n",
    "NoiseBabble= []\n",
    "Phase = []\n",
    "f, t, Zxx = signal.stft(samples, sample_rate,nperseg=256,nfft=256)\n",
    "print(\"Z\",Zxx.shape)\n",
    "phase = np.angle(Zxx)\n",
    "T = len(t)//16\n",
    "print(\"T\",T)\n",
    "for i in range(0,(T)*16,16):\n",
    "  NoiseBabble.append(np.log(np.abs(Zxx[:,i:i+16])+1e-8))\n",
    "  Phase.append(phase[:,i:i+16])\n",
    "print(\"N\",np.asarray(NoiseBabble).shape)\n",
    "# if len(t) % 16 !=0:\n",
    "#   NoiseBabble.append(np.log(np.abs(Zxx[:,len(t)-16:len(t)])+1e-8))\n",
    "#   Phase.append(phase[:,len(t)-16:len(t)])\n",
    "#   T = T+1\n",
    "X_NoiseBabble = []\n",
    "NoiseBabble = np.asarray(NoiseBabble)\n",
    "print(\"S\",NoiseBabble.shape)\n",
    "for i in range(0,7):\n",
    "#     temp = NoiseBabble[0]\n",
    "#     for j in range(1,8):\n",
    "#         temp = np.concatenate((temp,NoiseBabble[j]),axis=1)\n",
    "#         #print(\"tempshape\",temp.shape)\n",
    "#     X_NoiseBabble.append(temp)\n",
    "    X_NoiseBabble.append(NoiseBabble[0:8])\n",
    "for i in range(7,len(NoiseBabble)):\n",
    "#     temp = NoiseBabble[i-7]\n",
    "#     for j in range(1,8):\n",
    "#         temp = np.concatenate((temp,NoiseBabble[(i-7)+j]),axis=1)\n",
    "#     X_NoiseBabble.append(temp)\n",
    "    X_NoiseBabble.append(NoiseBabble[i-7:i+1])\n",
    "print(\"H1\",np.asarray(X_NoiseBabble).shape)\n",
    "b = np.asarray(X_NoiseBabble)\n",
    "#X_NoiseBabble = b.reshape(b.shape[0],8, 129, 16)\n",
    "rectified = new_model.predict(b)\n",
    "print(rectified.shape)\n",
    "rectified =rectified.reshape(rectified.shape[0], 129, 16)\n",
    "print(rectified.shape)\n",
    "A = np.zeros((129,0))\n",
    "for i in range(T):\n",
    "  S = np.exp(rectified[i])\n",
    "  A = np.append(A,S*np.cos(Phase[i]) + 1j * S*np.sin(Phase[i]),axis=1)\n",
    "t,x = signal.istft(A,nperseg=256,nfft=256)\n",
    "x = np.asarray(x, dtype=np.int16)\n",
    "#print(len(x))\n",
    "#data=np.int16(x/np.max(np.abs(x)) * 32767)\n",
    "wavfile.write('/media/hd2/chaitanya/Deep_Learning/project/TCDTIMIT/code/babble/testing/frames_si1021.wav', 16000, x)"
   ]
  },
  {
   "cell_type": "code",
   "execution_count": 3,
   "metadata": {},
   "outputs": [
    {
     "name": "stdout",
     "output_type": "stream",
     "text": [
      "81792\n"
     ]
    },
    {
     "data": {
      "text/plain": [
       "<Figure size 640x480 with 1 Axes>"
      ]
     },
     "metadata": {},
     "output_type": "display_data"
    }
   ],
   "source": [
    "import matplotlib.pyplot as plt\n",
    "from scipy.fftpack import fft\n",
    "from scipy.io import wavfile\n",
    "import numpy as np\n",
    "fs, data = wavfile.read('/media/hd2/chaitanya/Deep_Learning/project/TCDTIMIT/code/babble/testing/frames_sa1.wav')\n",
    "fft_out = fft(data)\n",
    "print(len(data))\n",
    "plt.plot(np.arange(0,len(fft_out)), np.abs(fft_out))\n",
    "plt.show()\n",
    "\n"
   ]
  },
  {
   "cell_type": "code",
   "execution_count": 18,
   "metadata": {},
   "outputs": [
    {
     "data": {
      "image/png": "[encoded data removed]",
      "text/plain": [
       "<Figure size 432x288 with 1 Axes>"
      ]
     },
     "metadata": {
      "needs_background": "light"
     },
     "output_type": "display_data"
    },
    {
     "data": {
      "image/png": "[encoded data removed]",
      "text/plain": [
       "<Figure size 432x288 with 1 Axes>"
      ]
     },
     "metadata": {
      "needs_background": "light"
     },
     "output_type": "display_data"
    },
    {
     "data": {
      "image/png": "[encoded data removed]",
      "text/plain": [
       "<Figure size 432x288 with 1 Axes>"
      ]
     },
     "metadata": {
      "needs_background": "light"
     },
     "output_type": "display_data"
    }
   ],
   "source": [
    "fs, data = wavfile.read('/media/hd2/chaitanya/Deep_Learning/project/TCDTIMIT/code/babble/testing/frames_sa2.wav')\n",
    "fft_out = (fft(data))\n",
    "FFT = np.fft.fftshift(fft_out)\n",
    "plt.plot(np.arange(0,data.shape[0]), np.abs(FFT))\n",
    "plt.show()\n",
    "plt.plot(np.arange(0,data.shape[0]),data)\n",
    "plt.show()\n",
    "\n",
    "plt.plot(np.arange(0,data.shape[0]),np.fft.ifft(fft_out))\n",
    "plt.show()"
   ]
  },
  {
   "cell_type": "code",
   "execution_count": 11,
   "metadata": {},
   "outputs": [
    {
     "data": {
      "image/png": "[encoded data removed]",
      "text/plain": [
       "<Figure size 432x288 with 1 Axes>"
      ]
     },
     "metadata": {
      "needs_background": "light"
     },
     "output_type": "display_data"
    },
    {
     "data": {
      "image/png": "[encoded data removed]",
      "text/plain": [
       "<Figure size 432x288 with 1 Axes>"
      ]
     },
     "metadata": {
      "needs_background": "light"
     },
     "output_type": "display_data"
    }
   ],
   "source": [
    "fs, data = wavfile.read('/media/hd2/chaitanya/Deep_Learning/project/TCDTIMIT/Clean/volunteers/01M/straightcam/sa2.wav')\n",
    "fft_out = np.fft.fftshift(fft(data))\n",
    "plt.plot(np.arange(0,data.shape[0]), np.abs(fft_out))\n",
    "plt.show()\n",
    "plt.plot(np.arange(0,data.shape[0]),data)\n",
    "plt.show()"
   ]
  },
  {
   "cell_type": "code",
   "execution_count": 12,
   "metadata": {},
   "outputs": [
    {
     "data": {
      "image/png": "[encoded data removed]",
      "text/plain": [
       "<Figure size 432x288 with 1 Axes>"
      ]
     },
     "metadata": {
      "needs_background": "light"
     },
     "output_type": "display_data"
    },
    {
     "data": {
      "image/png": "[encoded data removed]",
      "text/plain": [
       "<Figure size 432x288 with 1 Axes>"
      ]
     },
     "metadata": {
      "needs_background": "light"
     },
     "output_type": "display_data"
    }
   ],
   "source": [
    "\n",
    "fs, data = wavfile.read('/media/hd2/chaitanya/Deep_Learning/project/TCDTIMIT/Noisy_TCDTIMIT/Babble/20/volunteers/01M/straightcam/sa2.wav')\n",
    "fft_out = np.fft.fftshift(fft(data))\n",
    "plt.plot(np.arange(0,data.shape[0]), np.abs(fft_out))\n",
    "plt.show()\n",
    "plt.plot(np.arange(0,data.shape[0]),data)\n",
    "plt.show()"
   ]
  },
  {
   "cell_type": "code",
   "execution_count": 21,
   "metadata": {},
   "outputs": [
    {
     "data": {
      "image/png": "[encoded data removed]",
      "text/plain": [
       "<Figure size 432x288 with 1 Axes>"
      ]
     },
     "metadata": {
      "needs_background": "light"
     },
     "output_type": "display_data"
    }
   ],
   "source": [
    "import scipy.ndimage\n",
    "from scipy import signal\n",
    "window = signal.gaussian(data.shape[0], std=3000,sym=True)\n",
    "plt.plot(window)\n",
    "plt.show()"
   ]
  },
  {
   "cell_type": "code",
   "execution_count": 19,
   "metadata": {},
   "outputs": [
    {
     "data": {
      "text/plain": [
       "(75648,)"
      ]
     },
     "execution_count": 19,
     "metadata": {},
     "output_type": "execute_result"
    }
   ],
   "source": [
    "data.shape"
   ]
  },
  {
   "cell_type": "code",
   "execution_count": 22,
   "metadata": {},
   "outputs": [],
   "source": [
    "D = (window)*np.abs(FFT)\n",
    "phase = np.angle(fft_out)\n",
    "D = np.fft.ifftshift(D) *(np.cos(phase) + 1j*np.sin(phase))\n"
   ]
  },
  {
   "cell_type": "code",
   "execution_count": 23,
   "metadata": {},
   "outputs": [
    {
     "data": {
      "image/png": "[encoded data removed]",
      "text/plain": [
       "<Figure size 432x288 with 1 Axes>"
      ]
     },
     "metadata": {
      "needs_background": "light"
     },
     "output_type": "display_data"
    }
   ],
   "source": [
    "plt.plot(np.arange(0,data.shape[0]),D)\n",
    "plt.show()"
   ]
  },
  {
   "cell_type": "code",
   "execution_count": 24,
   "metadata": {},
   "outputs": [
    {
     "data": {
      "image/png": "[encoded data removed]",
      "text/plain": [
       "<Figure size 432x288 with 1 Axes>"
      ]
     },
     "metadata": {
      "needs_background": "light"
     },
     "output_type": "display_data"
    }
   ],
   "source": [
    "e = np.fft.ifft(D)\n",
    "plt.plot(np.arange(0,len(e)),e)\n",
    "plt.show()\n"
   ]
  },
  {
   "cell_type": "code",
   "execution_count": 25,
   "metadata": {},
   "outputs": [],
   "source": [
    "x = np.asarray(e, dtype=np.int16)\n",
    "wavfile.write('/media/hd2/chaitanya/Deep_Learning/project/TCDTIMIT/code/babble/testing/jeeva.wav', 16000, x)"
   ]
  },
  {
   "cell_type": "code",
   "execution_count": 17,
   "metadata": {},
   "outputs": [
    {
     "data": {
      "text/plain": [
       "(75648,)"
      ]
     },
     "execution_count": 17,
     "metadata": {},
     "output_type": "execute_result"
    }
   ],
   "source": [
    "FFT.shape"
   ]
  },
  {
   "cell_type": "code",
   "execution_count": null,
   "metadata": {},
   "outputs": [],
   "source": []
  }
 ],
 "metadata": {
  "kernelspec": {
   "display_name": "Python 3",
   "language": "python",
   "name": "python3"
  },
  "language_info": {
   "codemirror_mode": {
    "name": "ipython",
    "version": 3
   },
   "file_extension": ".py",
   "mimetype": "text/x-python",
   "name": "python",
   "nbconvert_exporter": "python",
   "pygments_lexer": "ipython3",
   "version": "3.5.2"
  }
 },
 "nbformat": 4,
 "nbformat_minor": 2
}
